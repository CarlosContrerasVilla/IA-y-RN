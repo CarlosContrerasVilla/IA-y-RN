{
  "nbformat": 4,
  "nbformat_minor": 0,
  "metadata": {
    "colab": {
      "provenance": [],
      "authorship_tag": "ABX9TyN090dAuWL8g3NuDvQwdaLY",
      "include_colab_link": true
    },
    "kernelspec": {
      "name": "python3",
      "display_name": "Python 3"
    },
    "language_info": {
      "name": "python"
    }
  },
  "cells": [
    {
      "cell_type": "markdown",
      "metadata": {
        "id": "view-in-github",
        "colab_type": "text"
      },
      "source": [
        "<a href=\"https://colab.research.google.com/github/CarlosContrerasVilla/IA-y-RN/blob/main/1RED_NEURONAL.ipynb\" target=\"_parent\"><img src=\"https://colab.research.google.com/assets/colab-badge.svg\" alt=\"Open In Colab\"/></a>"
      ]
    },
    {
      "cell_type": "markdown",
      "source": [
        "# **Proyecto de la clase Inteligencia Artificial y Redes Neuronales**\n",
        "\n",
        "Este  proyecto consiste en el entrenamiento de una red neuronal artificial.\n",
        "Se genero un conjunto de datos (imagenes) que son numeros del 0-9.\n"
      ],
      "metadata": {
        "id": "TEdpdYv9ixrj"
      }
    },
    {
      "cell_type": "markdown",
      "source": [
        "**Carlos Hiram Contreras Villarreal 1965687 **"
      ],
      "metadata": {
        "id": "l1FRDESGi-Qx"
      }
    },
    {
      "cell_type": "code",
      "execution_count": 1,
      "metadata": {
        "id": "Kf8ofLIhcj-p"
      },
      "outputs": [],
      "source": [
        "#importar librerias\n",
        "import os\n",
        "import cv2\n",
        "import tensorflow as tf\n",
        "from tensorflow.keras import datasets, layers, models\n",
        "import matplotlib.pyplot as plt\n",
        "from sklearn.model_selection import train_test_split\n",
        "import numpy as np\n",
        "from tensorflow import keras"
      ]
    },
    {
      "cell_type": "code",
      "source": [
        "#imagenes de entrenamiento\n",
        "i=0\n",
        "f=0\n",
        "image_array=[]\n",
        "image_label=[]\n",
        "\n",
        "while(i<80):\n",
        "  file = '/content/'+str(i)+'.png'\n",
        "\n",
        "  test_image = cv2.imread(file, cv2.IMREAD_GRAYSCALE )\n",
        "\n",
        "  \n",
        "  img_resized= cv2.resize(test_image,(28,28),)\n",
        "\n",
        "  img_resized=cv2.bitwise_not(img_resized)\n",
        "\n",
        "  #Preview de la imagen reformateada\n",
        "  numeros='/content/'+str(i)+'.png'\n",
        "  plt.imshow(img_resized,cmap='gray')\n",
        "  if(f==9):\n",
        "    image_array.append(img_resized)#aqui se guarda la imagen convertida\n",
        "    image_label.append(f)#etiqueta del 0-9\n",
        "    \n",
        "    f=0\n",
        "  else:\n",
        "    \n",
        "    image_array.append(img_resized)#aqui se guarda la imagen convertida\n",
        "    image_label.append(f)#etiqueta del 0-9\n",
        "    f=f+1\n",
        "\n",
        "  i=i+1\n"
      ],
      "metadata": {
        "colab": {
          "base_uri": "https://localhost:8080/",
          "height": 265
        },
        "id": "gkSoheYGcont",
        "outputId": "94b60272-ea96-4f94-acac-ca29ee96f1f9"
      },
      "execution_count": 47,
      "outputs": [
        {
          "output_type": "display_data",
          "data": {
            "text/plain": [
              "<Figure size 432x288 with 1 Axes>"
            ],
            "image/png": "[encoded data removed]"
          },
          "metadata": {
            "needs_background": "light"
          }
        }
      ]
    },
    {
      "cell_type": "code",
      "source": [
        "#iamgenes para test van ser 20 imagenes\n",
        "i=80\n",
        "f=0\n",
        "image_test=[]\n",
        "label_test=[]\n",
        "\n",
        "while(i<100):\n",
        "  file = '/content/'+str(i)+'.png'\n",
        "\n",
        "  test_image = cv2.imread(file, cv2.IMREAD_GRAYSCALE )\n",
        "\n",
        "  \n",
        "  img_resized= cv2.resize(test_image,(28,28),)\n",
        "\n",
        "  img_resized=cv2.bitwise_not(img_resized)\n",
        "\n",
        "  #Preview de la imagen reformateada\n",
        "  numeros='/content/'+str(i)+'.png'\n",
        "  plt.imshow(img_resized,cmap='gray')\n",
        "  if(f==9):\n",
        "    image_test.append(img_resized)#aqui se guarda la imagen convertida\n",
        "    label_test.append(f)#etiqueta del 0-9\n",
        "    \n",
        "    f=0\n",
        "  else:\n",
        "    \n",
        "    image_test.append(img_resized)#aqui se guarda la imagen convertida\n",
        "    label_test.append(f)#etiqueta del 0-9\n",
        "    f=f+1\n",
        "\n",
        "  i=i+1"
      ],
      "metadata": {
        "colab": {
          "base_uri": "https://localhost:8080/",
          "height": 265
        },
        "id": "KuBsy11Jeoew",
        "outputId": "9045145b-7001-438f-fd4c-81a42e685789"
      },
      "execution_count": 48,
      "outputs": [
        {
          "output_type": "display_data",
          "data": {
            "text/plain": [
              "<Figure size 432x288 with 1 Axes>"
            ],
            "image/png": "[encoded data removed]"
          },
          "metadata": {
            "needs_background": "light"
          }
        }
      ]
    },
    {
      "cell_type": "code",
      "source": [
        "i=0\n",
        "plt.figure(figsize=(10,10))\n",
        "for i in range(25):\n",
        "    plt.subplot(5,5,i+1)\n",
        "    plt.xticks([])\n",
        "    plt.yticks([])\n",
        "    plt.grid(False)\n",
        "    plt.imshow(image_array[i],cmap=plt.cm.binary)\n",
        "    plt.xlabel([image_label[i]])\n",
        "plt.show()"
      ],
      "metadata": {
        "colab": {
          "base_uri": "https://localhost:8080/",
          "height": 589
        },
        "id": "-p9_5AnJdGDh",
        "outputId": "84555474-9e6e-49d5-f0f2-53285782f7fc"
      },
      "execution_count": 8,
      "outputs": [
        {
          "output_type": "display_data",
          "data": {
            "text/plain": [
              "<Figure size 720x720 with 25 Axes>"
            ],
            "image/png": "[encoded data removed]"
          },
          "metadata": {}
        }
      ]
    },
    {
      "cell_type": "code",
      "source": [
        "train_images= np.array(image_array) \n"
      ],
      "metadata": {
        "id": "-DtETmU0eFL7"
      },
      "execution_count": 9,
      "outputs": []
    },
    {
      "cell_type": "code",
      "source": [
        "train_labels=np.array(image_label) "
      ],
      "metadata": {
        "id": "Hzw6FpapeVL9"
      },
      "execution_count": 10,
      "outputs": []
    },
    {
      "cell_type": "code",
      "source": [
        "test_images=np.array(image_test) "
      ],
      "metadata": {
        "id": "r2sh9FQ-ekLI"
      },
      "execution_count": 14,
      "outputs": []
    },
    {
      "cell_type": "code",
      "source": [
        "test_labels=np.array(label_test) "
      ],
      "metadata": {
        "id": "K_DenHF6fgQW"
      },
      "execution_count": 15,
      "outputs": []
    },
    {
      "cell_type": "code",
      "source": [
        "model = keras.Sequential([\n",
        "    keras.layers.Flatten(input_shape=(28, 28)),\n",
        "    keras.layers.Dense(128, activation='relu'),\n",
        "    keras.layers.Dense(10, activation='softmax')\n",
        "])"
      ],
      "metadata": {
        "id": "gLANOKhof5mB"
      },
      "execution_count": 17,
      "outputs": []
    },
    {
      "cell_type": "code",
      "source": [
        "model.compile(optimizer='adam',\n",
        "              loss='sparse_categorical_crossentropy',\n",
        "              metrics=['accuracy'])"
      ],
      "metadata": {
        "id": "p-2RQmVmf5gD"
      },
      "execution_count": 18,
      "outputs": []
    },
    {
      "cell_type": "code",
      "source": [
        "model.fit(train_images, train_labels, epochs=10)"
      ],
      "metadata": {
        "colab": {
          "base_uri": "https://localhost:8080/"
        },
        "id": "9XeoGcRlf1Si",
        "outputId": "acb73c65-3f52-4c90-94b5-586b5c5d3867"
      },
      "execution_count": 19,
      "outputs": [
        {
          "output_type": "stream",
          "name": "stdout",
          "text": [
            "Epoch 1/10\n",
            "4/4 [==============================] - 1s 6ms/step - loss: 102.4134 - accuracy: 0.2000\n",
            "Epoch 2/10\n",
            "4/4 [==============================] - 0s 6ms/step - loss: 23.2099 - accuracy: 0.7000\n",
            "Epoch 3/10\n",
            "4/4 [==============================] - 0s 5ms/step - loss: 9.3869 - accuracy: 0.7800\n",
            "Epoch 4/10\n",
            "4/4 [==============================] - 0s 6ms/step - loss: 4.9463 - accuracy: 0.9100\n",
            "Epoch 5/10\n",
            "4/4 [==============================] - 0s 5ms/step - loss: 1.4199 - accuracy: 0.9600\n",
            "Epoch 6/10\n",
            "4/4 [==============================] - 0s 7ms/step - loss: 0.6613 - accuracy: 0.9700\n",
            "Epoch 7/10\n",
            "4/4 [==============================] - 0s 5ms/step - loss: 0.0196 - accuracy: 0.9900\n",
            "Epoch 8/10\n",
            "4/4 [==============================] - 0s 5ms/step - loss: 0.0364 - accuracy: 0.9900\n",
            "Epoch 9/10\n",
            "4/4 [==============================] - 0s 8ms/step - loss: 7.6412e-07 - accuracy: 1.0000\n",
            "Epoch 10/10\n",
            "4/4 [==============================] - 0s 6ms/step - loss: 0.0011 - accuracy: 1.0000\n"
          ]
        },
        {
          "output_type": "execute_result",
          "data": {
            "text/plain": [
              "<keras.callbacks.History at 0x7ff8cd7d1110>"
            ]
          },
          "metadata": {},
          "execution_count": 19
        }
      ]
    },
    {
      "cell_type": "markdown",
      "source": [
        "## Evaluar Exactitud\n",
        "\n"
      ],
      "metadata": {
        "id": "8xaIRcZJgQXA"
      }
    },
    {
      "cell_type": "code",
      "source": [
        "test_loss, test_acc = model.evaluate(test_images,  test_labels, verbose=2)\n",
        "\n",
        "print('\\nTest accuracy:', test_acc)"
      ],
      "metadata": {
        "colab": {
          "base_uri": "https://localhost:8080/"
        },
        "id": "pe2hSpXDgEqn",
        "outputId": "a9f180d5-61fb-4a11-dd27-c9be4de54cc0"
      },
      "execution_count": 20,
      "outputs": [
        {
          "output_type": "stream",
          "name": "stdout",
          "text": [
            "1/1 - 0s - loss: 0.0000e+00 - accuracy: 1.0000 - 167ms/epoch - 167ms/step\n",
            "\n",
            "Test accuracy: 1.0\n"
          ]
        }
      ]
    },
    {
      "cell_type": "markdown",
      "source": [
        "## Hacer predicciones\n"
      ],
      "metadata": {
        "id": "cq8mNF-UgoNv"
      }
    },
    {
      "cell_type": "code",
      "source": [
        "predictions = model.predict(test_images)"
      ],
      "metadata": {
        "colab": {
          "base_uri": "https://localhost:8080/"
        },
        "id": "gBgf8jaigq7b",
        "outputId": "1d6971c6-8d0c-4a72-a020-0f15b396636d"
      },
      "execution_count": 21,
      "outputs": [
        {
          "output_type": "stream",
          "name": "stdout",
          "text": [
            "1/1 [==============================] - 0s 84ms/step\n"
          ]
        }
      ]
    },
    {
      "cell_type": "code",
      "source": [
        "predictions[0]"
      ],
      "metadata": {
        "colab": {
          "base_uri": "https://localhost:8080/"
        },
        "id": "K-mFCxbBgstG",
        "outputId": "29dbdc5b-8cbe-470c-c916-d450e8a1b2c9"
      },
      "execution_count": 22,
      "outputs": [
        {
          "output_type": "execute_result",
          "data": {
            "text/plain": [
              "array([9.9999994e-01, 0.0000000e+00, 1.6997879e-35, 9.0743114e-31,\n",
              "       9.3539681e-32, 0.0000000e+00, 0.0000000e+00, 5.2599207e-34,\n",
              "       0.0000000e+00, 0.0000000e+00], dtype=float32)"
            ]
          },
          "metadata": {},
          "execution_count": 22
        }
      ]
    },
    {
      "cell_type": "code",
      "source": [
        "np.argmax(predictions[0])"
      ],
      "metadata": {
        "colab": {
          "base_uri": "https://localhost:8080/"
        },
        "id": "4aH4I59Tgu7R",
        "outputId": "b24a7957-8bd8-4e7c-cf90-b5c36aa6440e"
      },
      "execution_count": 23,
      "outputs": [
        {
          "output_type": "execute_result",
          "data": {
            "text/plain": [
              "0"
            ]
          },
          "metadata": {},
          "execution_count": 23
        }
      ]
    },
    {
      "cell_type": "code",
      "source": [
        "test_labels[0]"
      ],
      "metadata": {
        "colab": {
          "base_uri": "https://localhost:8080/"
        },
        "id": "vYfvM2lhgx1H",
        "outputId": "8f539491-858c-483a-98e7-6f55159e2d6e"
      },
      "execution_count": 24,
      "outputs": [
        {
          "output_type": "execute_result",
          "data": {
            "text/plain": [
              "0"
            ]
          },
          "metadata": {},
          "execution_count": 24
        }
      ]
    },
    {
      "cell_type": "code",
      "source": [
        "def plot_image(i, predictions_array, true_label, img):\n",
        "  predictions_array, true_label, img = predictions_array, true_label[i], img[i]\n",
        "  plt.grid(False)\n",
        "  plt.xticks([])\n",
        "  plt.yticks([])\n",
        "\n",
        "  plt.imshow(img, cmap=plt.cm.binary)\n",
        "\n",
        "  predicted_label = np.argmax(predictions_array)\n",
        "  if predicted_label == true_label:\n",
        "    color = 'blue'\n",
        "  else:\n",
        "    color = 'red'\n",
        "\n",
        "  plt.xlabel(\"{} {:2.0f}% ({})\".format(class_names[predicted_label],\n",
        "                                100*np.max(predictions_array),\n",
        "                                class_names[true_label]),\n",
        "                                color=color)\n",
        "\n",
        "def plot_value_array(i, predictions_array, true_label):\n",
        "  predictions_array, true_label = predictions_array, true_label[i]\n",
        "  plt.grid(False)\n",
        "  plt.xticks(range(10))\n",
        "  plt.yticks([])\n",
        "  thisplot = plt.bar(range(10), predictions_array, color=\"#777777\")\n",
        "  plt.ylim([0, 1])\n",
        "  predicted_label = np.argmax(predictions_array)\n",
        "\n",
        "  thisplot[predicted_label].set_color('red')\n",
        "  thisplot[true_label].set_color('blue')"
      ],
      "metadata": {
        "id": "Ylbvx5hyg0nx"
      },
      "execution_count": 25,
      "outputs": []
    },
    {
      "cell_type": "code",
      "source": [
        "class_names= ['0', '1', '2', '3', '4','5', '6', '7', '8', '9']"
      ],
      "metadata": {
        "id": "OcWEtSeGhMiF"
      },
      "execution_count": 38,
      "outputs": []
    },
    {
      "cell_type": "code",
      "source": [
        "i = 0\n",
        "plt.figure(figsize=(6,3))\n",
        "plt.subplot(1,2,1)\n",
        "plot_image(i, predictions[i], test_labels, test_images)\n",
        "plt.subplot(1,2,2)\n",
        "plot_value_array(i, predictions[i],  test_labels)\n",
        "plt.show()"
      ],
      "metadata": {
        "colab": {
          "base_uri": "https://localhost:8080/",
          "height": 211
        },
        "id": "bkRhr2njg3dN",
        "outputId": "1940e8fa-d885-478c-dc91-bf8e606e74fc"
      },
      "execution_count": 39,
      "outputs": [
        {
          "output_type": "display_data",
          "data": {
            "text/plain": [
              "<Figure size 432x216 with 2 Axes>"
            ],
            "image/png": "[encoded data removed]"
          },
          "metadata": {
            "needs_background": "light"
          }
        }
      ]
    },
    {
      "cell_type": "code",
      "source": [
        "i = 12\n",
        "plt.figure(figsize=(6,3))\n",
        "plt.subplot(1,2,1)\n",
        "plot_image(i, predictions[i], test_labels, test_images)\n",
        "plt.subplot(1,2,2)\n",
        "plot_value_array(i, predictions[i],  test_labels)\n",
        "plt.show()"
      ],
      "metadata": {
        "colab": {
          "base_uri": "https://localhost:8080/",
          "height": 211
        },
        "id": "KsoW0Cs4g3bY",
        "outputId": "d12edf50-2824-440f-cf2d-5d7378ea6b79"
      },
      "execution_count": 40,
      "outputs": [
        {
          "output_type": "display_data",
          "data": {
            "text/plain": [
              "<Figure size 432x216 with 2 Axes>"
            ],
            "image/png": "[encoded data removed]"
          },
          "metadata": {
            "needs_background": "light"
          }
        }
      ]
    },
    {
      "cell_type": "code",
      "source": [
        "# Plot the first X test images, their predicted labels, and the true labels.\n",
        "# Color correct predictions in blue and incorrect predictions in red.\n",
        "num_rows = 5\n",
        "num_cols = 3\n",
        "num_images = num_rows*num_cols\n",
        "plt.figure(figsize=(2*2*num_cols, 2*num_rows))\n",
        "for i in range(num_images):\n",
        "  plt.subplot(num_rows, 2*num_cols, 2*i+1)\n",
        "  plot_image(i, predictions[i], test_labels, test_images)\n",
        "  plt.subplot(num_rows, 2*num_cols, 2*i+2)\n",
        "  plot_value_array(i, predictions[i], test_labels)\n",
        "plt.tight_layout()\n",
        "plt.show()"
      ],
      "metadata": {
        "colab": {
          "base_uri": "https://localhost:8080/",
          "height": 729
        },
        "id": "aF_e0hiXg9_9",
        "outputId": "3f3ed363-500c-4de5-91ed-783be66c7321"
      },
      "execution_count": 41,
      "outputs": [
        {
          "output_type": "display_data",
          "data": {
            "text/plain": [
              "<Figure size 864x720 with 30 Axes>"
            ],
            "image/png": "[encoded data removed]"
          },
          "metadata": {
            "needs_background": "light"
          }
        }
      ]
    },
    {
      "cell_type": "code",
      "source": [
        "# Grab an image from the test dataset.\n",
        "img = test_images[1]\n",
        "\n",
        "print(img.shape)"
      ],
      "metadata": {
        "colab": {
          "base_uri": "https://localhost:8080/"
        },
        "id": "8ogPiEcMg98e",
        "outputId": "6ed83872-d771-401d-8810-2a2e04659abc"
      },
      "execution_count": 42,
      "outputs": [
        {
          "output_type": "stream",
          "name": "stdout",
          "text": [
            "(28, 28)\n"
          ]
        }
      ]
    },
    {
      "cell_type": "code",
      "source": [
        "# Add the image to a batch where it's the only member.\n",
        "img = (np.expand_dims(img,0))\n",
        "\n",
        "print(img.shape)"
      ],
      "metadata": {
        "colab": {
          "base_uri": "https://localhost:8080/"
        },
        "id": "evsWBpXQg944",
        "outputId": "84f6b30e-ea09-4bf4-dc16-9668c9bc46e0"
      },
      "execution_count": 43,
      "outputs": [
        {
          "output_type": "stream",
          "name": "stdout",
          "text": [
            "(1, 28, 28)\n"
          ]
        }
      ]
    },
    {
      "cell_type": "code",
      "source": [
        "predictions_single = model.predict(img)\n",
        "\n",
        "print(predictions_single)"
      ],
      "metadata": {
        "colab": {
          "base_uri": "https://localhost:8080/"
        },
        "id": "Fkvt0D2Bg3YU",
        "outputId": "ac5a41ad-036b-4650-8fde-a433e7b2b821"
      },
      "execution_count": 44,
      "outputs": [
        {
          "output_type": "stream",
          "name": "stdout",
          "text": [
            "1/1 [==============================] - 0s 38ms/step\n",
            "[[0.0000000e+00 1.0000000e+00 0.0000000e+00 1.0121719e-26 2.6270806e-16\n",
            "  0.0000000e+00 0.0000000e+00 0.0000000e+00 6.4050089e-19 0.0000000e+00]]\n"
          ]
        }
      ]
    },
    {
      "cell_type": "code",
      "source": [
        "plot_value_array(1, predictions_single[0], test_labels)\n",
        "_ = plt.xticks(range(10), class_names, rotation=45)"
      ],
      "metadata": {
        "colab": {
          "base_uri": "https://localhost:8080/",
          "height": 267
        },
        "id": "GUa7sWZ3iIw3",
        "outputId": "77017712-8bfd-4948-e912-c2330586a448"
      },
      "execution_count": 45,
      "outputs": [
        {
          "output_type": "display_data",
          "data": {
            "text/plain": [
              "<Figure size 432x288 with 1 Axes>"
            ],
            "image/png": "[encoded data removed]"
          },
          "metadata": {
            "needs_background": "light"
          }
        }
      ]
    },
    {
      "cell_type": "code",
      "source": [
        "np.argmax(predictions_single[0])"
      ],
      "metadata": {
        "colab": {
          "base_uri": "https://localhost:8080/"
        },
        "id": "yhs9Rl_BiIuF",
        "outputId": "11e44fbd-f594-4745-8aaf-356d6c4accd0"
      },
      "execution_count": 46,
      "outputs": [
        {
          "output_type": "execute_result",
          "data": {
            "text/plain": [
              "1"
            ]
          },
          "metadata": {},
          "execution_count": 46
        }
      ]
    }
  ]
}